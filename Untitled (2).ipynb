{
 "cells": [
  {
   "cell_type": "code",
   "execution_count": 4,
   "id": "beb14d5e",
   "metadata": {},
   "outputs": [],
   "source": [
    "import numpy as np\n",
    "import pickle\n",
    "import cv2\n",
    "from os import listdir\n",
    "from sklearn.preprocessing import LabelBinarizer\n",
    "from keras.models import Sequential\n",
    "from tensorflow.keras.layers import BatchNormalization\n",
    "from keras.layers.convolutional import Conv2D\n",
    "from keras.layers.convolutional import MaxPooling2D\n",
    "from keras.layers.core import Activation, Flatten, Dropout, Dense\n",
    "from keras import backend as K\n",
    "from keras.preprocessing.image import ImageDataGenerator\n",
    "from tensorflow.keras.optimizers import Adam\n",
    "from keras.preprocessing import image\n",
    "from keras.preprocessing.image import img_to_array\n",
    "from sklearn.preprocessing import MultiLabelBinarizer\n",
    "from sklearn.model_selection import train_test_split\n",
    "import matplotlib.pyplot as plt"
   ]
  },
  {
   "cell_type": "code",
   "execution_count": 5,
   "id": "6305cb51",
   "metadata": {},
   "outputs": [],
   "source": [
    "EPOCHS = 50\n",
    "INIT_LR = 1e-3\n",
    "BS = 32\n",
    "default_image_size = tuple((256, 256))\n",
    "image_size = 0\n",
    "directory_root = 'D:/plantfold'\n",
    "width=256\n",
    "height=256\n",
    "depth=3"
   ]
  },
  {
   "cell_type": "code",
   "execution_count": 6,
   "id": "b5488d28",
   "metadata": {},
   "outputs": [],
   "source": [
    "def convert_image_to_array(image_dir):\n",
    "    try:\n",
    "        image = cv2.imread(image_dir)\n",
    "        if image is not None :\n",
    "            image = cv2.resize(image, default_image_size)   \n",
    "            return img_to_array(image)\n",
    "        else :\n",
    "            return np.array([])\n",
    "    except Exception as e:\n",
    "        print(f\"Error : {e}\")\n",
    "        return None"
   ]
  },
  {
   "cell_type": "code",
   "execution_count": 7,
   "id": "0e9a3357",
   "metadata": {},
   "outputs": [
    {
     "name": "stdout",
     "output_type": "stream",
     "text": [
      "[INFO] Loading images ...\n",
      "[INFO] Processing Black_spot-Daconil fungicide ...\n",
      "[INFO] Processing powdery_mildew-Cholorothalonil ...\n",
      "[INFO] Processing Rose_aphids-Merit75W ...\n",
      "[INFO] Processing Rose_mosaic ...\n",
      "[INFO] Processing Rose_rust ...\n",
      "[INFO] Image loading completed\n"
     ]
    }
   ],
   "source": [
    "image_list, label_list = [], []\n",
    "try:\n",
    "    print(\"[INFO] Loading images ...\")\n",
    "    root_dir = listdir(directory_root)\n",
    "    for directory in root_dir :\n",
    "        # remove .DS_Store from list\n",
    "        if directory == \".DS_Store\" :\n",
    "            root_dir.remove(directory)\n",
    "\n",
    "    for plant_folder in root_dir :\n",
    "        plant_disease_folder_list = listdir(f\"{directory_root}/{plant_folder}\")\n",
    "        \n",
    "        for disease_folder in plant_disease_folder_list :\n",
    "            # remove .DS_Store from list\n",
    "            if disease_folder == \".DS_Store\" :\n",
    "                plant_disease_folder_list.remove(disease_folder)\n",
    "\n",
    "        for plant_disease_folder in plant_disease_folder_list:\n",
    "            print(f\"[INFO] Processing {plant_disease_folder} ...\")\n",
    "            plant_disease_image_list = listdir(f\"{directory_root}/{plant_folder}/{plant_disease_folder}/\")\n",
    "                \n",
    "            for single_plant_disease_image in plant_disease_image_list :\n",
    "                if single_plant_disease_image == \".DS_Store\" :\n",
    "                    plant_disease_image_list.remove(single_plant_disease_image)\n",
    "\n",
    "            for image in plant_disease_image_list[:200]:\n",
    "                image_directory = f\"{directory_root}/{plant_folder}/{plant_disease_folder}/{image}\"\n",
    "                if image_directory.endswith(\".jpg\") == True or image_directory.endswith(\".JPG\") == True:\n",
    "                    image_list.append(convert_image_to_array(image_directory))\n",
    "                    label_list.append(plant_disease_folder)\n",
    "    print(\"[INFO] Image loading completed\")  \n",
    "except Exception as e:\n",
    "    print(f\"Error : {e}\")"
   ]
  },
  {
   "cell_type": "code",
   "execution_count": 8,
   "id": "7a4cffb2",
   "metadata": {},
   "outputs": [],
   "source": [
    "image_size = len(image_list)"
   ]
  },
  {
   "cell_type": "code",
   "execution_count": 9,
   "id": "53f00a0f",
   "metadata": {},
   "outputs": [],
   "source": [
    "label_binarizer = LabelBinarizer()\n",
    "image_labels = label_binarizer.fit_transform(label_list)\n",
    "pickle.dump(label_binarizer,open('label_transform.pkl', 'wb'))\n",
    "n_classes = len(label_binarizer.classes_)"
   ]
  },
  {
   "cell_type": "code",
   "execution_count": 10,
   "id": "b8754f21",
   "metadata": {},
   "outputs": [
    {
     "name": "stdout",
     "output_type": "stream",
     "text": [
      "['Black_spot-Daconil fungicide' 'Rose_aphids-Merit75W' 'Rose_mosaic'\n",
      " 'Rose_rust' 'powdery_mildew-Cholorothalonil']\n"
     ]
    }
   ],
   "source": [
    "print(label_binarizer.classes_)"
   ]
  },
  {
   "cell_type": "code",
   "execution_count": 11,
   "id": "1551d7aa",
   "metadata": {},
   "outputs": [],
   "source": [
    "np_image_list = np.array(image_list, dtype=np.float16) / 225.0"
   ]
  },
  {
   "cell_type": "code",
   "execution_count": 12,
   "id": "fbdedec3",
   "metadata": {},
   "outputs": [
    {
     "name": "stdout",
     "output_type": "stream",
     "text": [
      "[INFO] Spliting data to train, test\n"
     ]
    }
   ],
   "source": [
    "print(\"[INFO] Spliting data to train, test\")\n",
    "x_train, x_test, y_train, y_test = train_test_split(np_image_list, image_labels, test_size=0.2, random_state = 42)"
   ]
  },
  {
   "cell_type": "code",
   "execution_count": 13,
   "id": "17cd7a64",
   "metadata": {},
   "outputs": [],
   "source": [
    "aug = ImageDataGenerator(\n",
    "    rotation_range=25, width_shift_range=0.1,\n",
    "    height_shift_range=0.1, shear_range=0.2, \n",
    "    zoom_range=0.2,horizontal_flip=True, \n",
    "    fill_mode=\"nearest\")"
   ]
  },
  {
   "cell_type": "code",
   "execution_count": 14,
   "id": "a10fcf9e",
   "metadata": {},
   "outputs": [],
   "source": [
    "model = Sequential()\n",
    "inputShape = (height, width, depth)\n",
    "chanDim = -1\n",
    "if K.image_data_format() == \"channels_first\":\n",
    "    inputShape = (depth, height, width)\n",
    "    chanDim = 1\n",
    "model.add(Conv2D(32, (3, 3), padding=\"same\",input_shape=inputShape))\n",
    "model.add(Activation(\"relu\"))\n",
    "model.add(BatchNormalization(axis=chanDim))\n",
    "model.add(MaxPooling2D(pool_size=(3, 3)))\n",
    "model.add(Dropout(0.25))\n",
    "model.add(Conv2D(64, (3, 3), padding=\"same\"))\n",
    "model.add(Activation(\"relu\"))\n",
    "model.add(BatchNormalization(axis=chanDim))\n",
    "model.add(Conv2D(64, (3, 3), padding=\"same\"))\n",
    "model.add(Activation(\"relu\"))\n",
    "model.add(BatchNormalization(axis=chanDim))\n",
    "model.add(MaxPooling2D(pool_size=(2, 2)))\n",
    "model.add(Dropout(0.25))\n",
    "model.add(Conv2D(128, (3, 3), padding=\"same\"))\n",
    "model.add(Activation(\"relu\"))\n",
    "model.add(BatchNormalization(axis=chanDim))\n",
    "model.add(Conv2D(128, (3, 3), padding=\"same\"))\n",
    "model.add(Activation(\"relu\"))\n",
    "model.add(BatchNormalization(axis=chanDim))\n",
    "model.add(MaxPooling2D(pool_size=(2, 2)))\n",
    "model.add(Dropout(0.25))\n",
    "model.add(Flatten())\n",
    "model.add(Dense(1024))\n",
    "model.add(Activation(\"relu\"))\n",
    "model.add(BatchNormalization())\n",
    "model.add(Dropout(0.5))\n",
    "model.add(Dense(n_classes))\n",
    "model.add(Activation(\"softmax\"))"
   ]
  },
  {
   "cell_type": "code",
   "execution_count": 15,
   "id": "d4dd20e8",
   "metadata": {},
   "outputs": [
    {
     "name": "stdout",
     "output_type": "stream",
     "text": [
      "Model: \"sequential\"\n",
      "_________________________________________________________________\n",
      " Layer (type)                Output Shape              Param #   \n",
      "=================================================================\n",
      " conv2d (Conv2D)             (None, 256, 256, 32)      896       \n",
      "                                                                 \n",
      " activation (Activation)     (None, 256, 256, 32)      0         \n",
      "                                                                 \n",
      " batch_normalization (BatchN  (None, 256, 256, 32)     128       \n",
      " ormalization)                                                   \n",
      "                                                                 \n",
      " max_pooling2d (MaxPooling2D  (None, 85, 85, 32)       0         \n",
      " )                                                               \n",
      "                                                                 \n",
      " dropout (Dropout)           (None, 85, 85, 32)        0         \n",
      "                                                                 \n",
      " conv2d_1 (Conv2D)           (None, 85, 85, 64)        18496     \n",
      "                                                                 \n",
      " activation_1 (Activation)   (None, 85, 85, 64)        0         \n",
      "                                                                 \n",
      " batch_normalization_1 (Batc  (None, 85, 85, 64)       256       \n",
      " hNormalization)                                                 \n",
      "                                                                 \n",
      " conv2d_2 (Conv2D)           (None, 85, 85, 64)        36928     \n",
      "                                                                 \n",
      " activation_2 (Activation)   (None, 85, 85, 64)        0         \n",
      "                                                                 \n",
      " batch_normalization_2 (Batc  (None, 85, 85, 64)       256       \n",
      " hNormalization)                                                 \n",
      "                                                                 \n",
      " max_pooling2d_1 (MaxPooling  (None, 42, 42, 64)       0         \n",
      " 2D)                                                             \n",
      "                                                                 \n",
      " dropout_1 (Dropout)         (None, 42, 42, 64)        0         \n",
      "                                                                 \n",
      " conv2d_3 (Conv2D)           (None, 42, 42, 128)       73856     \n",
      "                                                                 \n",
      " activation_3 (Activation)   (None, 42, 42, 128)       0         \n",
      "                                                                 \n",
      " batch_normalization_3 (Batc  (None, 42, 42, 128)      512       \n",
      " hNormalization)                                                 \n",
      "                                                                 \n",
      " conv2d_4 (Conv2D)           (None, 42, 42, 128)       147584    \n",
      "                                                                 \n",
      " activation_4 (Activation)   (None, 42, 42, 128)       0         \n",
      "                                                                 \n",
      " batch_normalization_4 (Batc  (None, 42, 42, 128)      512       \n",
      " hNormalization)                                                 \n",
      "                                                                 \n",
      " max_pooling2d_2 (MaxPooling  (None, 21, 21, 128)      0         \n",
      " 2D)                                                             \n",
      "                                                                 \n",
      " dropout_2 (Dropout)         (None, 21, 21, 128)       0         \n",
      "                                                                 \n",
      " flatten (Flatten)           (None, 56448)             0         \n",
      "                                                                 \n",
      " dense (Dense)               (None, 1024)              57803776  \n",
      "                                                                 \n",
      " activation_5 (Activation)   (None, 1024)              0         \n",
      "                                                                 \n",
      " batch_normalization_5 (Batc  (None, 1024)             4096      \n",
      " hNormalization)                                                 \n",
      "                                                                 \n",
      " dropout_3 (Dropout)         (None, 1024)              0         \n",
      "                                                                 \n",
      " dense_1 (Dense)             (None, 5)                 5125      \n",
      "                                                                 \n",
      " activation_6 (Activation)   (None, 5)                 0         \n",
      "                                                                 \n",
      "=================================================================\n",
      "Total params: 58,092,421\n",
      "Trainable params: 58,089,541\n",
      "Non-trainable params: 2,880\n",
      "_________________________________________________________________\n"
     ]
    }
   ],
   "source": [
    "model.summary()"
   ]
  },
  {
   "cell_type": "code",
   "execution_count": 16,
   "id": "f7b1e8d1",
   "metadata": {},
   "outputs": [
    {
     "name": "stdout",
     "output_type": "stream",
     "text": [
      "[INFO] training network...\n"
     ]
    }
   ],
   "source": [
    "opt = Adam(learning_rate=INIT_LR, decay=INIT_LR / EPOCHS)\n",
    "# distribution\n",
    "model.compile(loss=\"binary_crossentropy\", optimizer=opt,metrics=[\"accuracy\"])\n",
    "# train the network\n",
    "print(\"[INFO] training network...\")"
   ]
  },
  {
   "cell_type": "code",
   "execution_count": 17,
   "id": "84417c4f",
   "metadata": {},
   "outputs": [
    {
     "name": "stdout",
     "output_type": "stream",
     "text": [
      "Epoch 1/50\n",
      "12/12 [==============================] - 46s 4s/step - loss: 1.0394 - accuracy: 0.3207 - val_loss: 0.7415 - val_accuracy: 0.2871\n",
      "Epoch 2/50\n",
      "12/12 [==============================] - 40s 3s/step - loss: 0.7448 - accuracy: 0.4103 - val_loss: 0.6183 - val_accuracy: 0.3960\n",
      "Epoch 3/50\n",
      "12/12 [==============================] - 39s 3s/step - loss: 0.6691 - accuracy: 0.4402 - val_loss: 0.7937 - val_accuracy: 0.2871\n",
      "Epoch 4/50\n",
      "12/12 [==============================] - 39s 3s/step - loss: 0.5955 - accuracy: 0.5272 - val_loss: 1.3485 - val_accuracy: 0.2871\n",
      "Epoch 5/50\n",
      "12/12 [==============================] - 39s 3s/step - loss: 0.5336 - accuracy: 0.5734 - val_loss: 0.7230 - val_accuracy: 0.1881\n",
      "Epoch 6/50\n",
      "12/12 [==============================] - 40s 3s/step - loss: 0.5418 - accuracy: 0.5245 - val_loss: 1.2138 - val_accuracy: 0.0990\n",
      "Epoch 7/50\n",
      "12/12 [==============================] - 39s 3s/step - loss: 0.5008 - accuracy: 0.5163 - val_loss: 0.7751 - val_accuracy: 0.2871\n",
      "Epoch 8/50\n",
      "12/12 [==============================] - 39s 3s/step - loss: 0.4894 - accuracy: 0.5707 - val_loss: 0.5793 - val_accuracy: 0.3069\n",
      "Epoch 9/50\n",
      "12/12 [==============================] - 40s 3s/step - loss: 0.4593 - accuracy: 0.5652 - val_loss: 0.7182 - val_accuracy: 0.2970\n",
      "Epoch 10/50\n",
      "12/12 [==============================] - 39s 3s/step - loss: 0.4120 - accuracy: 0.6168 - val_loss: 0.7421 - val_accuracy: 0.2871\n",
      "Epoch 11/50\n",
      "12/12 [==============================] - 39s 3s/step - loss: 0.3730 - accuracy: 0.6359 - val_loss: 0.7103 - val_accuracy: 0.2970\n",
      "Epoch 12/50\n",
      "12/12 [==============================] - 40s 3s/step - loss: 0.3510 - accuracy: 0.6957 - val_loss: 0.8274 - val_accuracy: 0.2871\n",
      "Epoch 13/50\n",
      "12/12 [==============================] - 40s 3s/step - loss: 0.3382 - accuracy: 0.6630 - val_loss: 0.8718 - val_accuracy: 0.2871\n",
      "Epoch 14/50\n",
      "12/12 [==============================] - 39s 3s/step - loss: 0.3311 - accuracy: 0.7011 - val_loss: 0.6569 - val_accuracy: 0.4059\n",
      "Epoch 15/50\n",
      "12/12 [==============================] - 39s 3s/step - loss: 0.3135 - accuracy: 0.7255 - val_loss: 0.6581 - val_accuracy: 0.3762\n",
      "Epoch 16/50\n",
      "12/12 [==============================] - 39s 3s/step - loss: 0.2688 - accuracy: 0.7636 - val_loss: 1.0425 - val_accuracy: 0.2871\n",
      "Epoch 17/50\n",
      "12/12 [==============================] - 39s 3s/step - loss: 0.2837 - accuracy: 0.7772 - val_loss: 0.6753 - val_accuracy: 0.5050\n",
      "Epoch 18/50\n",
      "12/12 [==============================] - 40s 3s/step - loss: 0.2757 - accuracy: 0.7554 - val_loss: 0.7144 - val_accuracy: 0.4257\n",
      "Epoch 19/50\n",
      "12/12 [==============================] - 39s 3s/step - loss: 0.2840 - accuracy: 0.7663 - val_loss: 0.8722 - val_accuracy: 0.3168\n",
      "Epoch 20/50\n",
      "12/12 [==============================] - 41s 3s/step - loss: 0.2761 - accuracy: 0.7582 - val_loss: 0.6620 - val_accuracy: 0.4059\n",
      "Epoch 21/50\n",
      "12/12 [==============================] - 39s 3s/step - loss: 0.2730 - accuracy: 0.7310 - val_loss: 0.9630 - val_accuracy: 0.3960\n",
      "Epoch 22/50\n",
      "12/12 [==============================] - 40s 3s/step - loss: 0.2466 - accuracy: 0.7880 - val_loss: 0.7503 - val_accuracy: 0.4554\n",
      "Epoch 23/50\n",
      "12/12 [==============================] - 40s 3s/step - loss: 0.2954 - accuracy: 0.7310 - val_loss: 0.6034 - val_accuracy: 0.3861\n",
      "Epoch 24/50\n",
      "12/12 [==============================] - 40s 3s/step - loss: 0.2596 - accuracy: 0.7554 - val_loss: 0.5645 - val_accuracy: 0.4356\n",
      "Epoch 25/50\n",
      "12/12 [==============================] - 39s 3s/step - loss: 0.2241 - accuracy: 0.7772 - val_loss: 0.5010 - val_accuracy: 0.4554\n",
      "Epoch 26/50\n",
      "12/12 [==============================] - 41s 3s/step - loss: 0.2405 - accuracy: 0.7578 - val_loss: 0.7893 - val_accuracy: 0.4059\n",
      "Epoch 27/50\n",
      "12/12 [==============================] - 40s 3s/step - loss: 0.2526 - accuracy: 0.7772 - val_loss: 0.4672 - val_accuracy: 0.4851\n",
      "Epoch 28/50\n",
      "12/12 [==============================] - 39s 3s/step - loss: 0.2197 - accuracy: 0.8098 - val_loss: 0.5970 - val_accuracy: 0.4752\n",
      "Epoch 29/50\n",
      "12/12 [==============================] - 39s 3s/step - loss: 0.2090 - accuracy: 0.8098 - val_loss: 0.5446 - val_accuracy: 0.5149\n",
      "Epoch 30/50\n",
      "12/12 [==============================] - 40s 3s/step - loss: 0.2142 - accuracy: 0.8315 - val_loss: 0.5007 - val_accuracy: 0.5248\n",
      "Epoch 31/50\n",
      "12/12 [==============================] - 41s 3s/step - loss: 0.1953 - accuracy: 0.8229 - val_loss: 0.4720 - val_accuracy: 0.5446\n",
      "Epoch 32/50\n",
      "12/12 [==============================] - 39s 3s/step - loss: 0.1980 - accuracy: 0.8342 - val_loss: 0.4997 - val_accuracy: 0.5743\n",
      "Epoch 33/50\n",
      "12/12 [==============================] - 39s 3s/step - loss: 0.1917 - accuracy: 0.8750 - val_loss: 0.4375 - val_accuracy: 0.6139\n",
      "Epoch 34/50\n",
      "12/12 [==============================] - 40s 3s/step - loss: 0.2005 - accuracy: 0.8261 - val_loss: 0.5015 - val_accuracy: 0.5347\n",
      "Epoch 35/50\n",
      "12/12 [==============================] - 39s 3s/step - loss: 0.1700 - accuracy: 0.8614 - val_loss: 0.4168 - val_accuracy: 0.5842\n",
      "Epoch 36/50\n",
      "12/12 [==============================] - 41s 3s/step - loss: 0.1983 - accuracy: 0.8071 - val_loss: 0.4796 - val_accuracy: 0.5644\n",
      "Epoch 37/50\n",
      "12/12 [==============================] - 39s 3s/step - loss: 0.1909 - accuracy: 0.8370 - val_loss: 0.5307 - val_accuracy: 0.5545\n",
      "Epoch 38/50\n",
      "12/12 [==============================] - 39s 3s/step - loss: 0.1623 - accuracy: 0.8587 - val_loss: 0.3517 - val_accuracy: 0.7129\n",
      "Epoch 39/50\n",
      "12/12 [==============================] - 40s 3s/step - loss: 0.1750 - accuracy: 0.8505 - val_loss: 0.4293 - val_accuracy: 0.5941\n",
      "Epoch 40/50\n",
      "12/12 [==============================] - 39s 3s/step - loss: 0.1673 - accuracy: 0.8641 - val_loss: 0.5747 - val_accuracy: 0.5743\n",
      "Epoch 41/50\n",
      "12/12 [==============================] - 39s 3s/step - loss: 0.1801 - accuracy: 0.8587 - val_loss: 0.4744 - val_accuracy: 0.6733\n",
      "Epoch 42/50\n",
      "12/12 [==============================] - 40s 3s/step - loss: 0.1623 - accuracy: 0.8696 - val_loss: 0.4382 - val_accuracy: 0.6238\n",
      "Epoch 43/50\n",
      "12/12 [==============================] - 39s 3s/step - loss: 0.1601 - accuracy: 0.8533 - val_loss: 0.3980 - val_accuracy: 0.6535\n",
      "Epoch 44/50\n",
      "12/12 [==============================] - 42s 3s/step - loss: 0.1688 - accuracy: 0.8478 - val_loss: 0.4654 - val_accuracy: 0.6535\n",
      "Epoch 45/50\n",
      "12/12 [==============================] - 41s 3s/step - loss: 0.1732 - accuracy: 0.8478 - val_loss: 0.4607 - val_accuracy: 0.6040\n",
      "Epoch 46/50\n",
      "12/12 [==============================] - 42s 3s/step - loss: 0.1628 - accuracy: 0.8696 - val_loss: 0.3809 - val_accuracy: 0.6634\n",
      "Epoch 47/50\n",
      "12/12 [==============================] - 45s 4s/step - loss: 0.1416 - accuracy: 0.8777 - val_loss: 0.4093 - val_accuracy: 0.6634\n",
      "Epoch 48/50\n",
      "12/12 [==============================] - 47s 4s/step - loss: 0.1679 - accuracy: 0.8614 - val_loss: 0.5370 - val_accuracy: 0.6238\n",
      "Epoch 49/50\n",
      "12/12 [==============================] - 41s 3s/step - loss: 0.1445 - accuracy: 0.8886 - val_loss: 0.3772 - val_accuracy: 0.7030\n",
      "Epoch 50/50\n",
      "12/12 [==============================] - 40s 3s/step - loss: 0.1348 - accuracy: 0.8886 - val_loss: 0.5482 - val_accuracy: 0.5743\n"
     ]
    }
   ],
   "source": [
    "history = model.fit(\n",
    "    aug.flow(x_train, y_train, batch_size=BS),\n",
    "    validation_data=(x_test, y_test),\n",
    "    steps_per_epoch=len(x_train) // BS,\n",
    "    epochs=EPOCHS, verbose=1\n",
    "    )"
   ]
  },
  {
   "cell_type": "code",
   "execution_count": 32,
   "id": "3c965b4c",
   "metadata": {},
   "outputs": [
    {
     "data": {
      "image/png": "[encoded data removed]",
      "text/plain": [
       "<Figure size 432x288 with 1 Axes>"
      ]
     },
     "metadata": {
      "needs_background": "light"
     },
     "output_type": "display_data"
    },
    {
     "data": {
      "image/png": "[encoded data removed]",
      "text/plain": [
       "<Figure size 432x288 with 1 Axes>"
      ]
     },
     "metadata": {
      "needs_background": "light"
     },
     "output_type": "display_data"
    }
   ],
   "source": [
    "acc = history.history['accuracy']\n",
    "val_acc = history.history['val_accuracy']\n",
    "loss = history.history['loss']\n",
    "val_loss = history.history['val_loss']\n",
    "epochs = range(1, len(acc) + 1)\n",
    "#Train and validation accuracy\n",
    "plt.plot(epochs, acc, 'b', label='Training accuracy')\n",
    "plt.plot(epochs, val_acc, 'r', label='Validation accuracy')\n",
    "plt.title('Training and Validation accuracy')\n",
    "plt.legend()\n",
    "\n",
    "plt.figure()\n",
    "#Train and validation loss\n",
    "plt.plot(epochs, loss, 'b', label='Training loss')\n",
    "plt.plot(epochs, val_loss, 'r', label='Validation loss')\n",
    "plt.title('Training and Validation loss')\n",
    "plt.legend()\n",
    "plt.show()"
   ]
  },
  {
   "cell_type": "code",
   "execution_count": 33,
   "id": "e69bab11",
   "metadata": {},
   "outputs": [
    {
     "name": "stdout",
     "output_type": "stream",
     "text": [
      "[INFO] Calculating model accuracy\n",
      "4/4 [==============================] - 2s 409ms/step - loss: 0.5482 - accuracy: 0.5743\n",
      "Test Accuracy: 57.42574334144592\n"
     ]
    }
   ],
   "source": [
    "print(\"[INFO] Calculating model accuracy\")\n",
    "scores = model.evaluate(x_test, y_test)\n",
    "print(f\"Test Accuracy: {scores[1]*100}\")"
   ]
  },
  {
   "cell_type": "code",
   "execution_count": 34,
   "id": "2aa09902",
   "metadata": {},
   "outputs": [],
   "source": [
    "image_dir=\"D:/test/finddiseases/images/53.jpg\"\n",
    "# im=convert_image_to_array(image_dir)\n",
    "if image_directory.endswith(\".jpg\") == True or image_directory.endswith(\".JPG\") == True:\n",
    "                    im_lis = convert_image_to_array(image_dir)\n"
   ]
  },
  {
   "cell_type": "code",
   "execution_count": 29,
   "id": "c9320d5a",
   "metadata": {},
   "outputs": [
    {
     "data": {
      "text/plain": [
       "array([[[[0.      , 0.1466  , 0.00889 ],\n",
       "         [0.      , 0.1466  , 0.00889 ],\n",
       "         [0.      , 0.1511  , 0.013336],\n",
       "         ...,\n",
       "         [0.04    , 0.2222  , 0.0845  ],\n",
       "         [0.02667 , 0.2089  , 0.0978  ],\n",
       "         [0.      , 0.1823  , 0.07556 ]],\n",
       "\n",
       "        [[0.004444, 0.1555  , 0.01778 ],\n",
       "         [0.      , 0.1511  , 0.013336],\n",
       "         [0.004444, 0.1555  , 0.01778 ],\n",
       "         ...,\n",
       "         [0.01778 , 0.2     , 0.06223 ],\n",
       "         [0.01778 , 0.2045  , 0.08    ],\n",
       "         [0.      , 0.1912  , 0.0711  ]],\n",
       "\n",
       "        [[0.      , 0.1511  , 0.013336],\n",
       "         [0.      , 0.1466  , 0.00889 ],\n",
       "         [0.      , 0.1466  , 0.00889 ],\n",
       "         ...,\n",
       "         [0.      , 0.1823  , 0.04    ],\n",
       "         [0.013336, 0.2     , 0.06223 ],\n",
       "         [0.01778 , 0.2045  , 0.06665 ]],\n",
       "\n",
       "        ...,\n",
       "\n",
       "        [[0.1422  , 0.5776  , 0.2844  ],\n",
       "         [0.1422  , 0.573   , 0.2844  ],\n",
       "         [0.1378  , 0.569   , 0.2756  ],\n",
       "         ...,\n",
       "         [0.2222  , 0.351   , 0.369   ],\n",
       "         [0.4     , 0.5156  , 0.542   ],\n",
       "         [0.3955  , 0.5156  , 0.5376  ]],\n",
       "\n",
       "        [[0.12    , 0.5557  , 0.2622  ],\n",
       "         [0.1289  , 0.5645  , 0.271   ],\n",
       "         [0.1333  , 0.5645  , 0.271   ],\n",
       "         ...,\n",
       "         [0.2932  , 0.422   , 0.4443  ],\n",
       "         [0.511   , 0.6177  , 0.6445  ],\n",
       "         [0.511   , 0.6133  , 0.64    ]],\n",
       "\n",
       "        [[0.11554 , 0.5513  , 0.2578  ],\n",
       "         [0.1333  , 0.569   , 0.2756  ],\n",
       "         [0.1511  , 0.582   , 0.2888  ],\n",
       "         ...,\n",
       "         [0.369   , 0.4978  , 0.529   ],\n",
       "         [0.4     , 0.5244  , 0.547   ],\n",
       "         [0.3867  , 0.5024  , 0.529   ]]]], dtype=float16)"
      ]
     },
     "execution_count": 29,
     "metadata": {},
     "output_type": "execute_result"
    }
   ],
   "source": [
    "np_image_li = np.array(im_lis, dtype=np.float16) / 225.0\n",
    "npp_image = np.expand_dims(np_image_li, axis=0)\n",
    "npp_image"
   ]
  },
  {
   "cell_type": "code",
   "execution_count": 35,
   "id": "0b8c8bd6",
   "metadata": {},
   "outputs": [
    {
     "name": "stdout",
     "output_type": "stream",
     "text": [
      "[[0.96533257 0.01520088 0.01566576 0.00145666 0.00234415]]\n"
     ]
    }
   ],
   "source": [
    "result=model.predict(npp_image)\n",
    "print(result)"
   ]
  },
  {
   "cell_type": "code",
   "execution_count": 36,
   "id": "d6e2fb88",
   "metadata": {},
   "outputs": [
    {
     "name": "stdout",
     "output_type": "stream",
     "text": [
      "probability:0.96533257\n",
      "Black_spot-Daconil fungicide\n"
     ]
    }
   ],
   "source": [
    "itemindex = np.where(result==np.max(result))\n",
    "print(\"probability:\"+str(np.max(result))+\"\\n\"+label_binarizer.classes_[itemindex[1][0]])"
   ]
  },
  {
   "cell_type": "code",
   "execution_count": null,
   "id": "6c6effdf",
   "metadata": {},
   "outputs": [],
   "source": []
  },
  {
   "cell_type": "code",
   "execution_count": null,
   "id": "477fae94",
   "metadata": {},
   "outputs": [],
   "source": []
  }
 ],
 "metadata": {
  "kernelspec": {
   "display_name": "Python 3 (ipykernel)",
   "language": "python",
   "name": "python3"
  },
  "language_info": {
   "codemirror_mode": {
    "name": "ipython",
    "version": 3
   },
   "file_extension": ".py",
   "mimetype": "text/x-python",
   "name": "python",
   "nbconvert_exporter": "python",
   "pygments_lexer": "ipython3",
   "version": "3.8.8"
  }
 },
 "nbformat": 4,
 "nbformat_minor": 5
}
